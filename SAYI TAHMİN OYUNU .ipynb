{
 "cells": [
  {
   "cell_type": "code",
   "execution_count": 72,
   "metadata": {},
   "outputs": [
    {
     "name": "stdout",
     "output_type": "stream",
     "text": [
      "##############TAHMİN OYUNU###############\n",
      "Hoş Geldiniz..\n",
      "Haydi oyuna başlayalım.\n",
      "Lütfen İsminizi giriniz:VEYSEL\n",
      "Sayıyı tahmin ediniz:10\n",
      "DAHA BÜYÜK\n",
      "Sayıyı tahmin ediniz:20\n",
      "DAHA BÜYÜK\n",
      "Sayıyı tahmin ediniz:80\n",
      "DAHA KÜÇÜK\n",
      "Sayıyı tahmin ediniz:70\n",
      "DAHA BÜYÜK\n",
      "Sayıyı tahmin ediniz:78\n",
      "**********\n",
      "DOĞRU TAHMİN\n",
      "TEBRİKLER\n"
     ]
    }
   ],
   "source": [
    "import random as rd\n",
    "rastgelesayi=rd.randint(1,100)#1 İLE 100 ARASINDA BİR SAYI TAHMİN EDELİM \n",
    "print(\"##############TAHMİN OYUNU###############\")\n",
    "print(\"Hoş Geldiniz..\")\n",
    "print(\"Haydi oyuna başlayalım.\")\n",
    "input(\"Lütfen İsminizi giriniz:\")\n",
    "while True:\n",
    "    tahmin=int(input(\"Sayıyı tahmin ediniz:\")) # TAHMİN ETTİĞİNİZ SAYIYI GİRİNİZ..\n",
    "    if tahmin == rastgelesayi:\n",
    "        print(\"**********\")\n",
    "        print(\"DOĞRU TAHMİN\")\n",
    "        print(\"TEBRİKLER\")\n",
    "        break\n",
    "    elif tahmin < rastgelesayi:\n",
    "        print(\"DAHA BÜYÜK\")\n",
    "    elif tahmin > rastgelesayi:\n",
    "        print(\"DAHA KÜÇÜK\")\n"
   ]
  },
  {
   "cell_type": "code",
   "execution_count": null,
   "metadata": {},
   "outputs": [],
   "source": []
  }
 ],
 "metadata": {
  "kernelspec": {
   "display_name": "Python 3",
   "language": "python",
   "name": "python3"
  },
  "language_info": {
   "codemirror_mode": {
    "name": "ipython",
    "version": 3
   },
   "file_extension": ".py",
   "mimetype": "text/x-python",
   "name": "python",
   "nbconvert_exporter": "python",
   "pygments_lexer": "ipython3",
   "version": "3.8.3"
  }
 },
 "nbformat": 4,
 "nbformat_minor": 4
}
