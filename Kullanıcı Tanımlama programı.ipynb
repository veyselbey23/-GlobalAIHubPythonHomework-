{
 "cells": [
  {
   "cell_type": "code",
   "execution_count": 12,
   "metadata": {},
   "outputs": [
    {
     "name": "stdout",
     "output_type": "stream",
     "text": [
      "First Name:Veysel\n",
      "last Name:BEYAZİTLİ\n",
      "Age:23\n",
      "Date of birth:1997\n"
     ]
    }
   ],
   "source": [
    "# kullanıcadan bilgi alınız(ad-soyad,yaş,doğum_tarihi(yıl))\n",
    "# ve for döngüsü kullanarak ekrana kullanıcı bilgilerini yazınız.\n",
    "\n",
    "isminiz=input(\"First Name:\")\n",
    "soyisim=input(\"last Name:\")\n",
    "yaş=int(input(\"Age:\"))\n",
    "doğum_tarihi=int(input(\"Date of birth:\"))\n",
    "değişken=(isminiz,soyisim,yaş,doğum_tarihi)"
   ]
  },
  {
   "cell_type": "code",
   "execution_count": 13,
   "metadata": {},
   "outputs": [],
   "source": [
    "list=(değişken)"
   ]
  },
  {
   "cell_type": "code",
   "execution_count": 14,
   "metadata": {},
   "outputs": [
    {
     "data": {
      "text/plain": [
       "('Veysel', 'BEYAZİTLİ', 23, 1997)"
      ]
     },
     "execution_count": 14,
     "metadata": {},
     "output_type": "execute_result"
    }
   ],
   "source": [
    "list"
   ]
  },
  {
   "cell_type": "code",
   "execution_count": 15,
   "metadata": {},
   "outputs": [
    {
     "name": "stdout",
     "output_type": "stream",
     "text": [
      "('Veysel', 'BEYAZİTLİ', 23, 1997)\n"
     ]
    }
   ],
   "source": [
    "değişken=[list]\n",
    "for i in değişken:\n",
    "    print(i)"
   ]
  },
  {
   "cell_type": "code",
   "execution_count": 16,
   "metadata": {},
   "outputs": [
    {
     "name": "stdout",
     "output_type": "stream",
     "text": [
      "Lütfen Yaşınızı Giriniz:23\n",
      "Dışarı çıkabilirsiniz.\n"
     ]
    }
   ],
   "source": [
    "\n",
    "#18 yaş altıysa ekrana \"dışarı çıkamazsınız\"yazısını yazınız..\n",
    "# eğer 18 yaş üstüyse \"dışarı çıkabilirsiniz\" yazısını yazınız..\n",
    "\n",
    "yaş=int(input(\"Lütfen Yaşınızı Giriniz:\"))\n",
    "\n",
    "if yaş < 18 :\n",
    "    print(\"Dışarı çıkamazsınız!!!\")\n",
    "else:\n",
    "    print(\"Dışarı çıkabilirsiniz.\")"
   ]
  },
  {
   "cell_type": "code",
   "execution_count": null,
   "metadata": {},
   "outputs": [],
   "source": []
  },
  {
   "cell_type": "code",
   "execution_count": null,
   "metadata": {},
   "outputs": [],
   "source": []
  }
 ],
 "metadata": {
  "kernelspec": {
   "display_name": "Python 3",
   "language": "python",
   "name": "python3"
  },
  "language_info": {
   "codemirror_mode": {
    "name": "ipython",
    "version": 3
   },
   "file_extension": ".py",
   "mimetype": "text/x-python",
   "name": "python",
   "nbconvert_exporter": "python",
   "pygments_lexer": "ipython3",
   "version": "3.8.3"
  }
 },
 "nbformat": 4,
 "nbformat_minor": 4
}
