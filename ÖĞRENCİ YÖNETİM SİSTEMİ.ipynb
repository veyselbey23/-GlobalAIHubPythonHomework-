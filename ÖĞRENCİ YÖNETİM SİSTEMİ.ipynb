{
 "cells": [
  {
   "cell_type": "code",
   "execution_count": 119,
   "metadata": {},
   "outputs": [
    {
     "name": "stdout",
     "output_type": "stream",
     "text": [
      "Ad ve Soyadınız:VEYSEL\n",
      "Ad ve soyadınızı tekrar giriniz:VEYSEL BEY\n",
      "Ad ve soyadınızı tekrar giriniz:VEYSEL\n",
      "Hatalı kulanıcı girişi daha sonra tekrar deneyiniz..\n"
     ]
    }
   ],
   "source": [
    "#öğrenci yönetim sistemi\n",
    "#öğrenci adını ve soyadını girmelidir. 3'ten fazla yanlış girmemeli  \n",
    "#aksi halde hata verilecektir.\n",
    "\n",
    "\n",
    "adi_soyadı=\"Veysel Beyazitli\"\n",
    "adi_soyadı1=input(\"Ad ve Soyadınız:\")\n",
    "if adi_soyadı == adi_soyadı1:\n",
    "    print(\"HOŞ GELDİNİZ\")\n",
    "else:\n",
    "    input(\"Ad ve soyadınızı tekrar giriniz:\")\n",
    "    input(\"Ad ve soyadınızı tekrar giriniz:\")\n",
    "    print(\"Hatalı kulanıcı girişi daha sonra tekrar deneyiniz..\")\n"
   ]
  },
  {
   "cell_type": "code",
   "execution_count": 121,
   "metadata": {},
   "outputs": [
    {
     "name": "stdout",
     "output_type": "stream",
     "text": [
      "Öğrenci en az üç en fazla beş ders seçmelidir:2\n",
      "Krediniz yetersizdir..\n"
     ]
    }
   ],
   "source": [
    "# 5 ders oluşturulmalı bir öğrenci min 3 max 5 ders seçmeli\n",
    "# aksi halde öğrenci sınıfta kalacaktır (yada kredisi yetersizdir.)\n",
    "\n",
    "öğrenci=\"Matematik,Fizik,Edebiyat,Kimya,İngilizce\"\n",
    "öğrenci1=int(input(\"Öğrenci en az üç en fazla beş ders seçmelidir:\") )\n",
    "if öğrenci1>=3:\n",
    "    if öğrenci1<=5:\n",
    "        print(\"Ders alma işleminiz başarılı bir şekilde gerçekleşmiştir.\")\n",
    "else:\n",
    "    print(\"Krediniz yetersizdir..\")"
   ]
  },
  {
   "cell_type": "code",
   "execution_count": 122,
   "metadata": {},
   "outputs": [],
   "source": [
    "# öğrencilerin vize ve final notları bir sözlüğe eklenerek yazılmalıdır\n",
    "\n",
    "vize={\"Ali\":60,\"Ayşe\":40,\"Furkan\":80}\n",
    "final={\"Ali\":20,\"Ayşe\":80,\"Furkan\":50}"
   ]
  },
  {
   "cell_type": "code",
   "execution_count": 123,
   "metadata": {},
   "outputs": [
    {
     "data": {
      "text/plain": [
       "{'Ali': 60, 'Ayşe': 40, 'Furkan': 80}"
      ]
     },
     "execution_count": 123,
     "metadata": {},
     "output_type": "execute_result"
    }
   ],
   "source": [
    "vize"
   ]
  },
  {
   "cell_type": "code",
   "execution_count": 124,
   "metadata": {},
   "outputs": [
    {
     "data": {
      "text/plain": [
       "{'Ali': 20, 'Ayşe': 80, 'Furkan': 50}"
      ]
     },
     "execution_count": 124,
     "metadata": {},
     "output_type": "execute_result"
    }
   ],
   "source": [
    "final"
   ]
  },
  {
   "cell_type": "code",
   "execution_count": 125,
   "metadata": {},
   "outputs": [
    {
     "name": "stdout",
     "output_type": "stream",
     "text": [
      "LÜTFEN ORTALAMANIZI GİRİNİZ:60\n",
      "CC\n"
     ]
    }
   ],
   "source": [
    "# öğrencilerin ortalamaları;\n",
    "#90>AA\n",
    "#70<ORT<90BB\n",
    "#50<ORT<70CC\n",
    "#30<ORT<50DD\n",
    "#ORT<30FF\n",
    "\n",
    "Ali=40\n",
    "Ayşe=60\n",
    "Furkan=65\n",
    "dersi_geçme=int(input(\"LÜTFEN ORTALAMANIZI GİRİNİZ:\"))\n",
    "if dersi_geçme>90:\n",
    "    print(\"AA\")\n",
    "elif 70 <= dersi_geçme <=90:\n",
    "        print(\"BB\")\n",
    "elif 50 <= dersi_geçme <=70:\n",
    "        print(\"CC\")\n",
    "elif 30<=dersi_geçme <=50:\n",
    "        print(\"DD\")\n",
    "elif dersi_geçme <=30:\n",
    "        print(\"FF\")"
   ]
  },
  {
   "cell_type": "code",
   "execution_count": null,
   "metadata": {},
   "outputs": [],
   "source": []
  }
 ],
 "metadata": {
  "kernelspec": {
   "display_name": "Python 3",
   "language": "python",
   "name": "python3"
  },
  "language_info": {
   "codemirror_mode": {
    "name": "ipython",
    "version": 3
   },
   "file_extension": ".py",
   "mimetype": "text/x-python",
   "name": "python",
   "nbconvert_exporter": "python",
   "pygments_lexer": "ipython3",
   "version": "3.8.3"
  }
 },
 "nbformat": 4,
 "nbformat_minor": 4
}
